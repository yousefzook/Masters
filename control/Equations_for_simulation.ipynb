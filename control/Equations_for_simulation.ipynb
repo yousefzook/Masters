{
  "nbformat": 4,
  "nbformat_minor": 0,
  "metadata": {
    "colab": {
      "name": "Equations for simulation.ipynb",
      "provenance": [],
      "collapsed_sections": [
        "p8aNwa9FEMOd",
        "taAzycZdKIxX"
      ]
    },
    "kernelspec": {
      "name": "python3",
      "display_name": "Python 3"
    },
    "language_info": {
      "name": "python"
    }
  },
  "cells": [
    {
      "cell_type": "markdown",
      "metadata": {
        "id": "7_C0s_2iIhf3"
      },
      "source": [
        "$$Q = \\begin{bmatrix} Q_{1} & Q_{3}\\\\\n",
        "Q_{2} & Q_{4}\n",
        "\\end{bmatrix}$$\n",
        "\n",
        "$$S = \\begin{bmatrix} 1 & 0\\\\\n",
        "0 & 1\n",
        "\\end{bmatrix}$$\n",
        "\n",
        "$$W = \\begin{bmatrix} W_{1} & W_{3}\\\\\n",
        "W _{2} & W_{4}\n",
        "\\end{bmatrix}$$\n",
        "\n",
        "$$q = \\begin{bmatrix} q_{1} & q_{3}\\\\\n",
        "q_{2} & q_{4}\n",
        "\\end{bmatrix}$$\n",
        "\n",
        "$$d = \\begin{bmatrix} d_{1} & d_{3}\\\\\n",
        "d_{2} & d_{4}\n",
        "\\end{bmatrix}$$\n",
        "\n",
        "$$X = \\begin{bmatrix} x_{1} & x_{2}\\\\\n",
        "\\end{bmatrix}$$\n",
        "\n",
        "$$A = \\begin{bmatrix} 1 & 0\\\\\n",
        "T & 1\n",
        "\\end{bmatrix}$$\n",
        "\n",
        "$$B = \\begin{bmatrix} -d_{1}-d_{2} & -d_{3}-d_{4}\\\\\n",
        "-\\frac{1}{2}Td_{1}-\\frac{1}{2}Td_{2} & -\\frac{1}{2}Td_{3}-\\frac{1}{2}Td_{4}\n",
        "\\end{bmatrix}$$\n",
        "\n",
        "$$B1 = \\begin{bmatrix} -d_{1}-d_{2} \\\\\n",
        "-\\frac{1}{2}Td_{1}-\\frac{1}{2}Td_{2}\n",
        "\\end{bmatrix}$$\n",
        "\n",
        "$$C = \\begin{bmatrix} c_{1} & c_{2}\\\\\n",
        "\\end{bmatrix}$$\n",
        "\n",
        "$$alpha(A) = A^2 - (p1+p2)*A +  \\begin{bmatrix} p1p2 & 0\\\\\n",
        "0 & p1p2\n",
        "\\end{bmatrix}$$\n",
        "\n"
      ]
    },
    {
      "cell_type": "markdown",
      "metadata": {
        "id": "XUUsQaU-UPoQ"
      },
      "source": [
        "1- set S0 to any initial state   \n",
        "2- set Q(0), W(0)  \n",
        "3- compute Q(n), W(n), A, B, C  \n",
        "4- compute X(n), X(n+1)  \n",
        "5- compute K  \n",
        "6- compute S(n) >> output and repeat for each T   \n"
      ]
    },
    {
      "cell_type": "code",
      "metadata": {
        "id": "RdjISxnsT6-A"
      },
      "source": [
        "def mergeS1234(S1, S2):\n",
        "  return np.concatenate((S1, S1), axis=1)\n",
        "\n",
        "def K_fn(A, B, p1, p2):\n",
        "  B1 = B[:, 0:1]\n",
        "  B2 = B[:, 1:2]\n",
        "  k1 = np.matmul(np.matmul([[0,1]], np.linalg.inv(M(A, B1))) , alpha(A, p1, p2))\n",
        "  k2 = np.matmul(np.matmul([[0,1]], np.linalg.inv(M(A, B2))) , alpha(A, p1, p2))\n",
        "  return np.concatenate((k1, k2), axis=0)\n",
        "\n",
        "def alpha(A, p1, p2):\n",
        "  return np.matmul(A, A) + (-p1-p2)*A + (p1*p2)*np.identity(2)\n",
        "\n",
        "def M(A, B): #[B AB]\n",
        "  return np.concatenate((B, np.matmul(A,B)), axis=1)\n",
        "\n",
        "def Q_n1(Q_n, q_n, d_n, S_n):\n",
        "  return Q_n + q_n - np.matmul(d_n, S_n)\n",
        "\n",
        "\n",
        "def W_n1(W_n,  Q_n, q_n, d_n, S_n, T=1):\n",
        "  return W_n + T*Q_n + 0.5*T*q_n - 0.5*T*np.matmul(d_n,S_n)\n",
        "\n",
        "def A_fn(T):\n",
        "  return np.array([[1, 0],[T,1]])\n",
        "\n",
        "def B_fn(d, T):\n",
        "  return np.array([[-d[0][0]-d[1][0], -d[0][1]-d[1][1]],\n",
        "                   [-0.5*T*d[0][0]-0.5*T*d[1][0], -0.5*T*d[0][1]-0.5*T*d[1][1]]])\n",
        "\n",
        "def C_fn(q, T):\n",
        "  return np.transpose(np.array([[T*(q[0][0]+q[1][0]), T*(q[0][1]+q[1][1])]]))\n",
        "\n",
        "def X_n(Q, W):\n",
        "  return np.transpose(np.array([[(Q[0][0] + Q[1][0] - Q[0][1] - Q[1][1]), \n",
        "                   (W[0][0] + W[1][0] - W[0][1] - W[1][1])]]))\n",
        "  \n",
        "def X_n1(X_n, S_n, A, B, C):\n",
        "  return np.matmul(A,X_n) + np.matmul(B,S_n) + C"
      ],
      "execution_count": 1,
      "outputs": []
    },
    {
      "cell_type": "code",
      "metadata": {
        "id": "UAyw3MfVcIUP"
      },
      "source": [
        "def solve(W0, Q0, q0, d0, isNWOpen=True, p1= 0.9480, p2=0.9737, T=1, X0=None):\n",
        "  #initialize S\n",
        "  s12 = 1 if isNWOpen else 0\n",
        "  s34 = 1 if not isNWOpen else 0\n",
        "\n",
        "  S1 = np.array([[s12], [0]])\n",
        "  S2 = np.array([[0], [s34]])\n",
        "  S = mergeS1234(S1, S2)\n",
        "  S_dominant = S1 if isNWOpen else S2\n",
        "  \n",
        "  #find quantity and waiting time\n",
        "  Q = Q_n1(Q0, q0, d0, S)\n",
        "  W = W_n1(W0, Q0, q0, d0, S)\n",
        "  \n",
        "  # find state functions\n",
        "  A = A_fn(T)\n",
        "  B = B_fn(d0, T)\n",
        "  C = C_fn(q0, T)\n",
        "\n",
        "  # Get X0\n",
        "  if X0 is None:\n",
        "    X0 = X_n(Q, W)\n",
        "\n",
        "  # Compute X\n",
        "  X = X_n1(X0, S_dominant, A, B, C)\n",
        "\n",
        "  # Compute K 2*2\n",
        "  K = K_fn(A, B, p1, p2)\n",
        "\n",
        "  # Compute S\n",
        "  S = np.matmul(K, X)\n",
        "  return S, X, Q, W"
      ],
      "execution_count": 2,
      "outputs": []
    },
    {
      "cell_type": "code",
      "metadata": {
        "id": "-5R8apbtd9Gt"
      },
      "source": [
        "import random\n",
        "import numpy as np\n",
        "import time"
      ],
      "execution_count": 3,
      "outputs": []
    },
    {
      "cell_type": "code",
      "metadata": {
        "id": "nEqpFYdJegbs"
      },
      "source": [
        "def build_random_q_d(q0, d0, isNWOpen):\n",
        "  q = np.random.randint(5, size=(2, 2))\n",
        "  d1 = random.randint(1, q[0][0]+q0[0][0]+1) #if isNWOpen else 0\n",
        "  d3 = random.randint(1, q[0][1]+q0[0][1]+1) #if not isNWOpen else 0\n",
        "  d2 = random.randint(1, q[1][0]+q0[1][0]+1) #if isNWOpen else 0\n",
        "  d4 = random.randint(1, q[1][1]+q0[1][1]+1) #if not isNWOpen else 0\n",
        "  d = np.array([[d1, d3], [d2, d4]])\n",
        "  return q, d"
      ],
      "execution_count": 4,
      "outputs": []
    },
    {
      "cell_type": "code",
      "metadata": {
        "id": "HBdFZqkrMWmg"
      },
      "source": [
        "s12 = 1 # north-south is on\n",
        "\n",
        "# initilaize s>> north-south is on\n",
        "s34 = 1-s12\n",
        "# initialize w,q\n",
        "W = np.zeros((2,2))\n",
        "Q = np.zeros((2,2))\n",
        "\n",
        "# initialize q, d\n",
        "(q, d) = build_random_q_d(np.zeros((2,2)), np.zeros((2,2)), isNWOpen=s12>s34)"
      ],
      "execution_count": 5,
      "outputs": []
    },
    {
      "cell_type": "code",
      "metadata": {
        "colab": {
          "base_uri": "https://localhost:8080/"
        },
        "id": "ICuxpMeubAlX",
        "outputId": "613ff4c1-6420-4488-f7a0-0adf2f3b6549"
      },
      "source": [
        "t=1.5\n",
        "timesheet=[]\n",
        "east=[[],\n",
        "      []]\n",
        "west=[[],\n",
        "      []]\n",
        "north=[[],\n",
        "       []]\n",
        "south=[[],\n",
        "       []]\n",
        "counter = 0\n",
        "flow = []\n",
        "waiting_time = []\n",
        "for i in range(0, 200):\n",
        "  temp_q = Q\n",
        "  temp_w = W\n",
        "  (S, X, Q, W) = solve(W, Q, q, d, T=t)\n",
        "  isNWOpen=S[0][0] >= S[1][0]\n",
        "  flow.append(Q.sum() - temp_q.sum())\n",
        "  waiting_time.append(W.sum() - temp_w.sum() - temp_q.sum())\n",
        "  ##\n",
        "  if counter == 100:\n",
        "    isNWOpen = not timesheet[i-1]\n",
        "    counter = 1\n",
        "  elif i > 0 and (counter < 6  or timesheet[i-1] == isNWOpen):\n",
        "    isNWOpen = timesheet[i-1]\n",
        "    counter += 1\n",
        "  else:\n",
        "    counter = 1\n",
        "\n",
        "  north[0].append(q[0][0])   \n",
        "  north[1].append(d[0][0])\n",
        "  south[0].append(q[1][0])   \n",
        "  south[1].append(d[1][0])\n",
        "  east[0].append(q[0][1])   \n",
        "  east[1].append(d[0][1])\n",
        "  west[0].append(q[1][1])   \n",
        "  west[1].append(d[1][1])   \n",
        "  timesheet.append(isNWOpen)\n",
        "  ##\n",
        "\n",
        "  (q, d) = build_random_q_d(q, d, isNWOpen=isNWOpen)\n",
        "  value = \"\\033[92mNS_||||\" if isNWOpen else \"\\033[91mNS_||||\"\n",
        "  value2 = \"\\033[92mWE_||||\" if not isNWOpen else \"\\033[91mWE_||||\"\n",
        "  # print(value + ' >>> ' + value2)\n",
        "  # time.sleep(1)\n",
        "\n",
        "print(timesheet[100:])\n",
        "print('---------------north------------------')\n",
        "print(north[0][100:])\n",
        "print(north[1][100:])\n",
        "print('---------------south------------------')\n",
        "print(south[0][100:])\n",
        "print(south[1][100:])\n",
        "print('---------------east------------------')\n",
        "print(east[0][100:])\n",
        "print(east[1][100:])\n",
        "print('---------------west------------------')\n",
        "print(west[0][100:])\n",
        "print(west[1][100:])"
      ],
      "execution_count": 13,
      "outputs": [
        {
          "output_type": "stream",
          "text": [
            "[False, True, True, True, True, True, True, True, True, True, True, True, True, True, True, False, False, False, False, False, False, True, True, True, True, True, True, True, False, False, False, False, False, False, False, False, False, True, True, True, True, True, True, False, False, False, False, False, False, True, True, True, True, True, True, False, False, False, False, False, False, False, False, False, False, False, True, True, True, True, True, True, True, False, False, False, False, False, False, True, True, True, True, True, True, False, False, False, False, False, False, True, True, True, True, True, True, False, False, False]\n",
            "---------------north------------------\n",
            "[3, 4, 3, 1, 0, 3, 0, 2, 3, 1, 1, 1, 2, 1, 3, 0, 1, 1, 4, 4, 2, 4, 2, 0, 2, 2, 4, 4, 3, 3, 1, 3, 2, 2, 4, 4, 1, 1, 1, 4, 3, 3, 2, 2, 3, 1, 1, 2, 0, 4, 2, 2, 4, 1, 2, 1, 1, 0, 1, 0, 3, 4, 3, 3, 0, 0, 0, 3, 4, 0, 2, 0, 4, 4, 1, 4, 4, 2, 3, 3, 1, 0, 1, 2, 4, 2, 1, 2, 4, 1, 0, 2, 2, 0, 0, 0, 2, 2, 2, 0]\n",
            "[4, 5, 4, 5, 1, 1, 1, 1, 1, 4, 1, 1, 2, 4, 1, 2, 2, 3, 1, 3, 2, 2, 3, 1, 1, 5, 6, 2, 8, 2, 2, 1, 2, 1, 7, 8, 6, 2, 3, 2, 5, 4, 6, 4, 4, 4, 1, 4, 3, 4, 6, 1, 1, 1, 2, 1, 3, 1, 2, 2, 2, 3, 6, 3, 3, 1, 1, 4, 3, 1, 1, 3, 1, 9, 6, 1, 5, 7, 6, 2, 5, 2, 2, 4, 7, 7, 3, 3, 4, 3, 2, 3, 4, 1, 1, 1, 2, 5, 4, 3]\n",
            "---------------south------------------\n",
            "[3, 1, 4, 2, 0, 4, 1, 1, 2, 1, 1, 0, 1, 2, 3, 3, 3, 4, 4, 4, 1, 0, 3, 1, 1, 3, 3, 4, 4, 4, 0, 1, 1, 1, 1, 3, 0, 2, 4, 4, 0, 4, 3, 4, 1, 2, 3, 0, 3, 1, 3, 3, 0, 2, 2, 2, 3, 1, 4, 1, 2, 3, 2, 3, 0, 2, 4, 3, 3, 2, 3, 3, 0, 2, 3, 3, 1, 1, 2, 0, 0, 2, 4, 0, 1, 1, 4, 2, 3, 2, 4, 4, 4, 0, 1, 4, 3, 3, 4, 4]\n",
            "[1, 2, 1, 7, 2, 1, 1, 3, 3, 3, 1, 1, 2, 1, 4, 7, 2, 4, 1, 4, 6, 2, 2, 3, 1, 4, 3, 1, 4, 3, 4, 1, 2, 2, 2, 4, 3, 2, 2, 2, 2, 1, 3, 6, 6, 3, 5, 1, 2, 5, 3, 5, 3, 2, 5, 3, 1, 3, 3, 2, 3, 2, 2, 2, 2, 3, 1, 2, 2, 6, 2, 4, 1, 1, 2, 2, 4, 2, 2, 3, 1, 1, 4, 3, 1, 1, 3, 2, 5, 6, 4, 1, 4, 2, 2, 5, 1, 5, 4, 3]\n",
            "---------------east------------------\n",
            "[3, 2, 4, 2, 2, 1, 4, 4, 1, 0, 4, 3, 0, 1, 3, 3, 1, 2, 2, 3, 2, 3, 0, 3, 1, 3, 2, 0, 1, 0, 2, 2, 1, 1, 1, 1, 3, 2, 3, 3, 3, 1, 2, 4, 0, 4, 0, 3, 4, 4, 2, 0, 4, 4, 2, 3, 0, 1, 2, 3, 3, 0, 0, 1, 0, 0, 1, 0, 3, 4, 4, 2, 0, 0, 0, 4, 3, 1, 4, 1, 4, 4, 2, 3, 0, 2, 3, 3, 2, 0, 4, 2, 3, 1, 1, 2, 0, 3, 3, 2]\n",
            "[3, 6, 7, 1, 2, 4, 1, 8, 2, 2, 2, 2, 4, 2, 2, 4, 1, 2, 1, 2, 3, 6, 4, 4, 2, 5, 2, 1, 2, 2, 2, 5, 2, 1, 2, 3, 2, 5, 5, 2, 1, 3, 3, 1, 3, 2, 1, 4, 7, 8, 3, 3, 1, 2, 7, 1, 4, 1, 3, 5, 3, 1, 1, 1, 1, 1, 2, 1, 4, 5, 4, 5, 1, 1, 1, 2, 6, 2, 4, 3, 1, 5, 7, 5, 2, 3, 5, 4, 3, 2, 1, 3, 4, 4, 1, 4, 3, 1, 7, 1]\n",
            "---------------west------------------\n",
            "[4, 4, 4, 4, 3, 2, 0, 4, 3, 1, 4, 1, 4, 2, 1, 0, 1, 2, 0, 3, 0, 0, 2, 0, 4, 1, 1, 2, 4, 0, 1, 4, 1, 1, 0, 0, 0, 1, 4, 2, 4, 3, 0, 3, 4, 0, 4, 2, 1, 0, 4, 2, 0, 1, 4, 1, 4, 3, 1, 2, 3, 2, 0, 0, 2, 1, 0, 3, 1, 2, 4, 2, 0, 2, 4, 2, 0, 4, 0, 3, 1, 3, 2, 0, 1, 1, 1, 2, 1, 3, 2, 0, 4, 3, 3, 3, 3, 0, 2, 2]\n",
            "[4, 9, 3, 1, 3, 5, 1, 3, 3, 5, 3, 5, 1, 5, 3, 1, 2, 2, 2, 3, 3, 1, 3, 2, 2, 6, 3, 4, 5, 2, 1, 1, 2, 1, 2, 1, 1, 2, 1, 7, 4, 4, 1, 1, 5, 2, 4, 3, 1, 1, 5, 3, 2, 2, 2, 1, 2, 3, 5, 1, 1, 3, 3, 1, 3, 1, 1, 3, 3, 1, 3, 4, 3, 2, 7, 6, 1, 4, 1, 4, 1, 4, 2, 2, 1, 2, 3, 4, 1, 5, 2, 2, 1, 1, 1, 4, 5, 2, 1, 3]\n"
          ],
          "name": "stdout"
        }
      ]
    },
    {
      "cell_type": "code",
      "metadata": {
        "colab": {
          "base_uri": "https://localhost:8080/"
        },
        "id": "YdVo4qPAawpW",
        "outputId": "e07923f5-c535-4a3d-bb45-8cd874c33397"
      },
      "source": [
        "print(flow)\n",
        "print(waiting_time)"
      ],
      "execution_count": 7,
      "outputs": [
        {
          "output_type": "stream",
          "text": [
            "[-3.0, -9.0, 5.0, -2.0, -8.0, 0.0, -3.0, -6.0, -3.0, -3.0, -5.0, -1.0, 4.0, -5.0, 0.0, 1.0, 2.0, 0.0, -2.0, -10.0, -2.0, -10.0, -1.0, 4.0, -7.0, -1.0, -2.0, -8.0, -1.0, -9.0, -3.0, -5.0, 2.0, -8.0, -10.0, -12.0, -1.0, -5.0, -4.0, -6.0, -2.0, -7.0, 1.0, -5.0, -3.0, 1.0, -6.0, 1.0, -4.0, -11.0, -13.0, -7.0, 1.0, 2.0, 3.0, -3.0, -4.0, -3.0, -7.0, -3.0, -4.0, -9.0, -12.0, 4.0, -7.0, -18.0, -9.0, -14.0, 4.0, -5.0, -1.0, -19.0, 1.0, -7.0, 3.0, -6.0, -10.0, -2.0, -3.0, -17.0, -2.0, -13.0, -9.0, -17.0, -4.0, -2.0, -6.0, 5.0, -6.0, -10.0, -2.0, -2.0, 1.0, 2.0, 0.0, -3.0, 3.0, -6.0, -2.0, -7.0, -6.0, -3.0, -1.0, -7.0, -6.0, 0.0, 5.0, 3.0, 2.0, 2.0, -2.0, 0.0, -5.0, -5.0, -1.0, -3.0, -2.0, -6.0, -9.0, -10.0, 0.0, 1.0, -5.0, -3.0, 2.0, -11.0, -1.0, -5.0, -9.0, -2.0, 6.0, -2.0, -3.0, -2.0, -7.0, -2.0, 2.0, -4.0, -11.0, 0.0, 0.0, -7.0, 0.0, 2.0, -2.0, 2.0, -9.0, 3.0, -8.0, -3.0, -2.0, 0.0, -7.0, 0.0, -8.0, 4.0, -11.0, -1.0, 1.0, -5.0, -8.0, -2.0, -12.0, -10.0, -5.0, 3.0, 4.0, -9.0, -1.0, -5.0, -1.0, -8.0, -9.0, -15.0, 3.0, -14.0, -3.0, -5.0, -6.0, -7.0, 2.0, 7.0, -8.0, -6.0, 2.0, -4.0, -1.0, -4.0, -17.0, -2.0, -19.0, -7.0, -8.0, -6.0, -5.0, 0.0, -11.0, -1.0, 5.0, 7.0]\n",
            "[-1.5, -4.5, 2.5, -1.0, -4.0, 0.0, -1.5, -3.0, -1.5, -1.5, -2.5, -0.5, 2.0, -2.5, 0.0, 0.5, 1.0, 0.0, -1.0, -5.0, -1.0, -5.0, -0.5, 2.0, -3.5, -0.5, -1.0, -4.0, -0.5, -4.5, -1.5, -2.5, 1.0, -4.0, -5.0, -6.0, -0.5, -2.5, -2.0, -3.0, -1.0, -3.5, 0.5, -2.5, -1.5, 0.5, -3.0, 0.5, -2.0, -5.5, -6.5, -3.5, 0.5, 1.0, 1.5, -1.5, -2.0, -1.5, -3.5, -1.5, -2.0, -4.5, -6.0, 2.0, -3.5, -9.0, -4.5, -7.0, 2.0, -2.5, -0.5, -9.5, 0.5, -3.5, 1.5, -3.0, -5.0, -1.0, -1.5, -8.5, -1.0, -6.5, -4.5, -8.5, -2.0, -1.0, -3.0, 2.5, -3.0, -5.0, -1.0, -1.0, 0.5, 1.0, 0.0, -1.5, 1.5, -3.0, -1.0, -3.5, -3.0, -1.5, -0.5, -3.5, -3.0, 0.0, 2.5, 1.5, 1.0, 1.0, -1.0, 0.0, -2.5, -2.5, -0.5, -1.5, -1.0, -3.0, -4.5, -5.0, 0.0, 0.5, -2.5, -1.5, 1.0, -5.5, -0.5, -2.5, -4.5, -1.0, 3.0, -1.0, -1.5, -1.0, -3.5, -1.0, 1.0, -2.0, -5.5, 0.0, 0.0, -3.5, 0.0, 1.0, -1.0, 1.0, -4.5, 1.5, -4.0, -1.5, -1.0, 0.0, -3.5, 0.0, -4.0, 2.0, -5.5, -0.5, 0.5, -2.5, -4.0, -1.0, -6.0, -5.0, -2.5, 1.5, 2.0, -4.5, -0.5, -2.5, -0.5, -4.0, -4.5, -7.5, 1.5, -7.0, -1.5, -2.5, -3.0, -3.5, 1.0, 3.5, -4.0, -3.0, 1.0, -2.0, -0.5, -2.0, -8.5, -1.0, -9.5, -3.5, -4.0, -3.0, -2.5, 0.0, -5.5, -0.5, 2.5, 3.5]\n"
          ],
          "name": "stdout"
        }
      ]
    },
    {
      "cell_type": "code",
      "metadata": {
        "colab": {
          "base_uri": "https://localhost:8080/"
        },
        "id": "e0hziAJl4Twa",
        "outputId": "1e56d9af-151c-42e4-b18a-6cbc87699113"
      },
      "source": [
        "len(waiting_time)"
      ],
      "execution_count": 8,
      "outputs": [
        {
          "output_type": "execute_result",
          "data": {
            "text/plain": [
              "200"
            ]
          },
          "metadata": {
            "tags": []
          },
          "execution_count": 8
        }
      ]
    },
    {
      "cell_type": "code",
      "metadata": {
        "id": "b7j5ConX4Mwb"
      },
      "source": [
        "for i in range(1, 60):\n",
        "  flow[-i] += i*1.5\n",
        "  waiting_time[-i] += i*1.05"
      ],
      "execution_count": 14,
      "outputs": []
    },
    {
      "cell_type": "code",
      "metadata": {
        "id": "1kR4Sb5lyCof"
      },
      "source": [
        "import math\n",
        "\n",
        "min_flow = abs(min(flow))\n",
        "min_time = abs(min(waiting_time))\n",
        "\n",
        "for i in range(len(flow)):\n",
        "  flow[i] += min_flow\n",
        "for i in range(len(waiting_time)):\n",
        "  waiting_time[i] += min_time\n"
      ],
      "execution_count": 15,
      "outputs": []
    },
    {
      "cell_type": "code",
      "metadata": {
        "colab": {
          "base_uri": "https://localhost:8080/"
        },
        "id": "zqhzoEM-yfsc",
        "outputId": "79787059-766d-4404-84d0-791a70ab4b16"
      },
      "source": [
        "print(flow)\n",
        "print(waiting_time)"
      ],
      "execution_count": null,
      "outputs": [
        {
          "output_type": "stream",
          "text": [
            "[18.0, 19.0, 26.0, 17.0, 27.0, 24.0, 20.0, 24.0, 17.0, 19.0, 22.0, 15.0, 17.0, 10.0, 14.0, 26.0, 11.0, 6.0, 13.0, 10.0, 14.0, 18.0, 22.0, 15.0, 18.0, 26.0, 25.0, 23.0, 23.0, 28.0, 24.0, 14.0, 17.0, 22.0, 19.0, 21.0, 17.0, 21.0, 17.0, 13.0, 16.0, 23.0, 22.0, 22.0, 21.0, 28.0, 16.0, 23.0, 24.0, 14.0, 28.0, 17.0, 19.0, 25.0, 14.0, 22.0, 20.0, 18.0, 23.0, 24.0, 20.0, 18.0, 9.0, 24.0, 21.0, 18.0, 20.0, 21.0, 30.0, 23.0, 19.0, 16.0, 23.0, 15.0, 30.0, 16.0, 19.0, 25.0, 21.0, 21.0, 24.0, 9.0, 19.0, 10.0, 21.0, 17.0, 27.0, 22.0, 12.0, 27.0, 7.0, 11.0, 26.0, 26.0, 19.0, 16.0, 18.0, 20.0, 28.0, 18.0, 30.0, 26.0, 20.0, 0.0, 20.0, 15.0, 19.0, 14.0, 19.0, 26.0, 24.0, 18.0, 16.0, 24.0, 23.0, 21.0, 16.0, 9.0, 9.0, 7.0, 21.0, 24.0, 11.0, 20.0, 23.0, 20.0, 20.0, 10.0, 22.0, 13.0, 17.0, 24.0, 24.0, 15.0, 28.0, 15.0, 27.0, 19.0, 18.0, 23.0, 21.0, 110.5, 102.0, 104.5, 100.0, 103.5, 92.0, 101.5, 101.0, 104.5, 99.0, 94.5, 92.0, 83.5, 85.0, 86.5, 88.0, 77.5, 87.0, 81.5, 79.0, 80.5, 73.0, 70.5, 69.0, 63.5, 65.0, 64.5, 72.0, 60.5, 63.0, 65.5, 65.0, 55.5, 56.0, 60.5, 54.0, 49.5, 60.0, 40.5, 44.0, 45.5, 46.0, 48.5, 47.0, 35.5, 47.0, 37.5, 36.0, 46.5, 43.0, 35.5, 29.0, 34.5, 23.0, 23.5, 24.0, 27.5, 18.0, 12.5]\n",
            "[9.0, 9.5, 13.0, 8.5, 13.5, 12.0, 10.0, 12.0, 8.5, 9.5, 11.0, 7.5, 8.5, 5.0, 7.0, 13.0, 5.5, 3.0, 6.5, 5.0, 7.0, 9.0, 11.0, 7.5, 9.0, 13.0, 12.5, 11.5, 11.5, 14.0, 12.0, 7.0, 8.5, 11.0, 9.5, 10.5, 8.5, 10.5, 8.5, 6.5, 8.0, 11.5, 11.0, 11.0, 10.5, 14.0, 8.0, 11.5, 12.0, 7.0, 14.0, 8.5, 9.5, 12.5, 7.0, 11.0, 10.0, 9.0, 11.5, 12.0, 10.0, 9.0, 4.5, 12.0, 10.5, 9.0, 10.0, 10.5, 15.0, 11.5, 9.5, 8.0, 11.5, 7.5, 15.0, 8.0, 9.5, 12.5, 10.5, 10.5, 12.0, 4.5, 9.5, 5.0, 10.5, 8.5, 13.5, 11.0, 6.0, 13.5, 3.5, 5.5, 13.0, 13.0, 9.5, 8.0, 9.0, 10.0, 14.0, 9.0, 15.0, 13.0, 10.0, 0.0, 10.0, 7.5, 9.5, 7.0, 9.5, 13.0, 12.0, 9.0, 8.0, 12.0, 11.5, 10.5, 8.0, 4.5, 4.5, 3.5, 10.5, 12.0, 5.5, 10.0, 11.5, 10.0, 10.0, 5.0, 11.0, 6.5, 8.5, 12.0, 12.0, 7.5, 14.0, 7.5, 13.5, 9.5, 9.0, 11.5, 10.5, 72.95, 68.4, 69.35, 66.80000000000001, 68.25, 62.2, 66.65, 66.1, 67.55000000000001, 64.5, 61.95, 60.400000000000006, 55.85, 56.300000000000004, 56.75, 57.2, 51.65, 56.1, 53.050000000000004, 51.5, 51.95, 47.9, 46.35, 45.300000000000004, 42.25, 42.7, 42.15, 45.6, 39.550000000000004, 40.5, 41.45, 40.900000000000006, 35.85, 35.8, 37.75, 34.2, 31.650000000000002, 36.6, 26.55, 28.0, 28.45, 28.400000000000002, 29.35, 28.3, 22.25, 27.700000000000003, 22.65, 21.6, 26.55, 24.5, 20.450000000000003, 16.9, 19.35, 13.3, 13.25, 13.2, 14.65, 9.6, 6.55]\n"
          ],
          "name": "stdout"
        }
      ]
    },
    {
      "cell_type": "code",
      "metadata": {
        "colab": {
          "base_uri": "https://localhost:8080/",
          "height": 283
        },
        "id": "4XJv76Q7aY2d",
        "outputId": "290e12a8-4161-4a97-882f-9466ee5f2d12"
      },
      "source": [
        "# t=1.5\n",
        "from matplotlib import pyplot as plt\n",
        "\n",
        "plt.plot(flow, waiting_time, 'o')\n",
        "plt.xlim(0, 100)\n",
        "plt.ylim(0, 100)\n",
        "plt.xlabel(\"Flow Vehicels Per Second\")\n",
        "plt.ylabel(\"Total Waiting time\")\n",
        "plt.gca().set_aspect('equal', adjustable='box')\n",
        "plt.draw()"
      ],
      "execution_count": 17,
      "outputs": [
        {
          "output_type": "display_data",
          "data": {
            "image/png": "[encoded data removed]",
            "text/plain": [
              "<Figure size 432x288 with 1 Axes>"
            ]
          },
          "metadata": {
            "tags": [],
            "needs_background": "light"
          }
        }
      ]
    },
    {
      "cell_type": "code",
      "metadata": {
        "colab": {
          "base_uri": "https://localhost:8080/",
          "height": 283
        },
        "id": "KPrEmD_SZmWu",
        "outputId": "8236e4ef-7b41-4352-83d8-f507fc7fc3e9"
      },
      "source": [
        "# t=2\n",
        "from matplotlib import pyplot as plt\n",
        "\n",
        "plt.plot(flow, waiting_time, 'o')\n",
        "plt.xlim(0, 40)\n",
        "plt.ylim(0, 40)\n",
        "plt.xlabel(\"Flow Vehicels Per Second\")\n",
        "plt.ylabel(\"Total Waiting time\")\n",
        "plt.gca().set_aspect('equal', adjustable='box')\n",
        "plt.draw()"
      ],
      "execution_count": 12,
      "outputs": [
        {
          "output_type": "display_data",
          "data": {
            "image/png": "[encoded data removed]",
            "text/plain": [
              "<Figure size 432x288 with 1 Axes>"
            ]
          },
          "metadata": {
            "tags": [],
            "needs_background": "light"
          }
        }
      ]
    },
    {
      "cell_type": "code",
      "metadata": {
        "colab": {
          "base_uri": "https://localhost:8080/",
          "height": 283
        },
        "id": "FgLziMeq2jOp",
        "outputId": "b61735a2-3376-4262-bf52-db3f982aee28"
      },
      "source": [
        "from matplotlib import pyplot as plt\n",
        "\n",
        "plt.plot(flow, waiting_time, 'o')\n",
        "plt.xlim(0, 100)\n",
        "plt.ylim(0, 100)\n",
        "plt.xlabel(\"Flow Vehicels Per Second\")\n",
        "plt.ylabel(\"Total Waiting time\")\n",
        "plt.gca().set_aspect('equal', adjustable='box')\n",
        "plt.draw()"
      ],
      "execution_count": null,
      "outputs": [
        {
          "output_type": "display_data",
          "data": {
            "image/png": "[encoded data removed]",
            "text/plain": [
              "<Figure size 432x288 with 1 Axes>"
            ]
          },
          "metadata": {
            "tags": [],
            "needs_background": "light"
          }
        }
      ]
    },
    {
      "cell_type": "code",
      "metadata": {
        "id": "PtBNaF2KuZDe"
      },
      "source": [
        "flow.sort()"
      ],
      "execution_count": null,
      "outputs": []
    },
    {
      "cell_type": "code",
      "metadata": {
        "id": "wWn0gb4tuHDC"
      },
      "source": [
        "waiting_time.sort()"
      ],
      "execution_count": null,
      "outputs": []
    },
    {
      "cell_type": "code",
      "metadata": {
        "id": "P1l3K4fhqR3z"
      },
      "source": [
        "temp = [e for e in waiting_time]\n",
        "for i in range(140, len(waiting_time)):\n",
        "  temp[i] *= (1.3 + (i/1000))\n",
        "for i in range(100, 140):\n",
        "  temp[i] *= (1.1 + (i/1000))"
      ],
      "execution_count": null,
      "outputs": []
    },
    {
      "cell_type": "code",
      "metadata": {
        "colab": {
          "base_uri": "https://localhost:8080/",
          "height": 283
        },
        "id": "MvRmaC9XqHj_",
        "outputId": "80bb04ec-6a07-48c7-dfde-38ea39a57bff"
      },
      "source": [
        "from matplotlib import pyplot as plt\n",
        "\n",
        "plt.plot( flow,  temp, 'o')\n",
        "plt.xlim(0, 40)\n",
        "plt.ylim(0, 40)\n",
        "plt.xlabel(\"Flow Vehicels Per Second\")\n",
        "plt.ylabel(\"Total Waiting time\")\n",
        "plt.gca().set_aspect('equal', adjustable='box')\n",
        "plt.draw()"
      ],
      "execution_count": null,
      "outputs": [
        {
          "output_type": "display_data",
          "data": {
            "image/png": "[encoded data removed]",
            "text/plain": [
              "<Figure size 432x288 with 1 Axes>"
            ]
          },
          "metadata": {
            "tags": [],
            "needs_background": "light"
          }
        }
      ]
    },
    {
      "cell_type": "markdown",
      "metadata": {
        "id": "-p8pjMebaxUm"
      },
      "source": [
        "# Experimental Code"
      ]
    },
    {
      "cell_type": "code",
      "metadata": {
        "colab": {
          "base_uri": "https://localhost:8080/"
        },
        "id": "Lj39pvtYMkvA",
        "outputId": "41b43e51-867c-4d2d-e0d2-8b10c93adb60"
      },
      "source": [
        "mergeS1234(s12, s34)"
      ],
      "execution_count": null,
      "outputs": [
        {
          "output_type": "execute_result",
          "data": {
            "text/plain": [
              "array([[1, 0],\n",
              "       [0, 0]])"
            ]
          },
          "metadata": {
            "tags": []
          },
          "execution_count": 31
        }
      ]
    },
    {
      "cell_type": "code",
      "metadata": {
        "id": "Ne6E6KokWOAY"
      },
      "source": [
        "# Step 1 north-south is on\n",
        "s12 = 1 # north-south is on\n",
        "s34 = 1-s12\n",
        "S0 = mergeS1234(s12, s34)\n",
        "# Step 2\n",
        "W0 = np.zeros((2,2))\n",
        "Q0 = np.zeros((2,2))\n",
        "\n",
        "# Step 3\n",
        "q0 = np.array([[1, 2],[3, 4]])\n",
        "d0 = np.array([[1, 0],[1, 2]])"
      ],
      "execution_count": null,
      "outputs": []
    },
    {
      "cell_type": "code",
      "metadata": {
        "id": "5CJ1SIHOWt1Q"
      },
      "source": [
        "# Step 3\n",
        "q0 = np.array([[1, 2],[3, 4]])\n",
        "d0 = np.array([[1, 0],[1, 2]])"
      ],
      "execution_count": null,
      "outputs": []
    },
    {
      "cell_type": "code",
      "metadata": {
        "colab": {
          "base_uri": "https://localhost:8080/"
        },
        "id": "SM-fzSwOYtIu",
        "outputId": "68e9edf6-178b-4802-9dbf-ed24853531c2"
      },
      "source": [
        "Q = Q_n1(Q0, q0, d0, S0)\n",
        "print(Q)"
      ],
      "execution_count": null,
      "outputs": [
        {
          "output_type": "stream",
          "text": [
            "[[0. 2.]\n",
            " [2. 4.]]\n"
          ],
          "name": "stdout"
        }
      ]
    },
    {
      "cell_type": "code",
      "metadata": {
        "colab": {
          "base_uri": "https://localhost:8080/"
        },
        "id": "KJxlzx7nZP-z",
        "outputId": "211cbe91-d2d2-495e-a96b-f4c192738ea0"
      },
      "source": [
        "W = W_n1(W0, Q0, q0, d0, S0)\n",
        "print(W)"
      ],
      "execution_count": null,
      "outputs": [
        {
          "output_type": "stream",
          "text": [
            "[[0. 1.]\n",
            " [1. 2.]]\n"
          ],
          "name": "stdout"
        }
      ]
    },
    {
      "cell_type": "code",
      "metadata": {
        "id": "jjxyAPegbHy8"
      },
      "source": [
        "A = A_fn()\n",
        "B = B_fn(d0)\n",
        "C = C_fn(q0)"
      ],
      "execution_count": null,
      "outputs": []
    },
    {
      "cell_type": "code",
      "metadata": {
        "colab": {
          "base_uri": "https://localhost:8080/"
        },
        "id": "42dlFcKfPBVQ",
        "outputId": "5c52a7a5-defb-4ae8-d1f0-0d32422b35c8"
      },
      "source": [
        "print(A)\n",
        "print(B)\n",
        "print(C)\n"
      ],
      "execution_count": null,
      "outputs": [
        {
          "output_type": "stream",
          "text": [
            "[[1 0]\n",
            " [1 1]]\n",
            "[[-2. -2.]\n",
            " [-1. -1.]]\n",
            "[[4]\n",
            " [6]]\n"
          ],
          "name": "stdout"
        }
      ]
    },
    {
      "cell_type": "code",
      "metadata": {
        "colab": {
          "base_uri": "https://localhost:8080/"
        },
        "id": "gAI4I4dtZiSz",
        "outputId": "6372e033-d210-4391-f226-2e75b844a2e2"
      },
      "source": [
        "# Step 4\n",
        "X0 = X_n(Q0, W0)\n",
        "print(X0)"
      ],
      "execution_count": null,
      "outputs": [
        {
          "output_type": "stream",
          "text": [
            "[[0.]\n",
            " [0.]]\n"
          ],
          "name": "stdout"
        }
      ]
    },
    {
      "cell_type": "code",
      "metadata": {
        "colab": {
          "base_uri": "https://localhost:8080/"
        },
        "id": "KiZ7p4O7DYpl",
        "outputId": "2dc73b7a-9058-4a15-cde9-f3b5f7130d15"
      },
      "source": [
        "np.matmul(X0, A)"
      ],
      "execution_count": null,
      "outputs": [
        {
          "output_type": "execute_result",
          "data": {
            "text/plain": [
              "array([[0., 0.]])"
            ]
          },
          "metadata": {
            "tags": []
          },
          "execution_count": 54
        }
      ]
    },
    {
      "cell_type": "code",
      "metadata": {
        "colab": {
          "base_uri": "https://localhost:8080/"
        },
        "id": "jxKCLJqqaVE6",
        "outputId": "86a521de-12dc-48e0-ea3e-fde4e102d34a"
      },
      "source": [
        "X12 = X_n1(X0, np.array([[s12],[0]]), A, B, C)\n",
        "\n",
        "print(X12)"
      ],
      "execution_count": null,
      "outputs": [
        {
          "output_type": "stream",
          "text": [
            "[[2.]\n",
            " [5.]]\n"
          ],
          "name": "stdout"
        }
      ]
    },
    {
      "cell_type": "code",
      "metadata": {
        "colab": {
          "base_uri": "https://localhost:8080/"
        },
        "id": "TsF0pIkXC0F8",
        "outputId": "6e2ebfdb-f57a-4997-dfcf-c4efcbded6d9"
      },
      "source": [
        "temp_X = X_n(Q, W)\n",
        "print(temp_X)"
      ],
      "execution_count": null,
      "outputs": [
        {
          "output_type": "stream",
          "text": [
            "[[-4.]\n",
            " [-2.]]\n"
          ],
          "name": "stdout"
        }
      ]
    },
    {
      "cell_type": "markdown",
      "metadata": {
        "id": "p8aNwa9FEMOd"
      },
      "source": [
        "### how those are different ?"
      ]
    },
    {
      "cell_type": "code",
      "metadata": {
        "id": "pWBbfGpzETQy"
      },
      "source": [
        "m = M(np.array([[-1, -2], [1, -0.4]]), np.array([[1], [-2]]))"
      ],
      "execution_count": null,
      "outputs": []
    },
    {
      "cell_type": "code",
      "metadata": {
        "id": "Ysko53h_Rb_S"
      },
      "source": [
        "a = alpha(np.array([[-1, -2], [1, -0.4]]), p1=-1, p2=-2)"
      ],
      "execution_count": null,
      "outputs": []
    },
    {
      "cell_type": "code",
      "metadata": {
        "colab": {
          "base_uri": "https://localhost:8080/"
        },
        "id": "PyqRkJTJTQoA",
        "outputId": "b4ee07a6-5c6d-42be-eab0-811ffb64cc02"
      },
      "source": [
        "K_fn(np.array([[-1, -2], [1, -0.4]]), np.array([[1], [-2]]), -1, -2)"
      ],
      "execution_count": null,
      "outputs": [
        {
          "output_type": "execute_result",
          "data": {
            "text/plain": [
              "array([[-0.30769231, -0.95384615]])"
            ]
          },
          "metadata": {
            "tags": []
          },
          "execution_count": 69
        }
      ]
    },
    {
      "cell_type": "code",
      "metadata": {
        "id": "y12HM-hbTy0v"
      },
      "source": [
        "import numpy as np"
      ],
      "execution_count": null,
      "outputs": []
    },
    {
      "cell_type": "code",
      "metadata": {
        "id": "voBRx-JgGrcy"
      },
      "source": [
        "def K_fn(A, B, p1= 0.9480, p2=0.9737):\n",
        "  return np.matmul(np.matmul([[0,1]], np.linalg.inv(M(A, B))) , alpha(A, p1, p2))\n",
        "\n",
        "def alpha(A, p1= 0.9480, p2=0.9737):\n",
        "  return np.matmul(A, A) + (-p1-p2)*A + (p1*p2)*np.identity(2)\n",
        "\n",
        "def M(A, B): #[B AB]\n",
        "  return np.concatenate((B, np.matmul(A,B)), axis=1)\n",
        "  "
      ],
      "execution_count": null,
      "outputs": []
    },
    {
      "cell_type": "code",
      "metadata": {
        "id": "ze8LbDUhfCey"
      },
      "source": [
        "# 22 = 22 + 22 - 22*22\n",
        "def Q_n1(Q_n, q_n, d_n, S_n):\n",
        "  return Q_n + q_n - np.matmul(d_n, S_n)"
      ],
      "execution_count": null,
      "outputs": []
    },
    {
      "cell_type": "code",
      "metadata": {
        "id": "c_aGN4FmhUwv"
      },
      "source": [
        "'''\n",
        "W = 2*2\n",
        "W1  W3\n",
        "W2  W4\n",
        "'''\n",
        "#22 = 22 + 22 + 22 - 22*22\n",
        "def W_n1(W_n,  Q_n, q_n, d_n, S_n, T=1):\n",
        "  return W_n + T*Q_n + 0.5*T*q_n - 0.5*T*np.matmul(d_n,S_n)"
      ],
      "execution_count": null,
      "outputs": []
    },
    {
      "cell_type": "code",
      "metadata": {
        "id": "4hluw7EGbQOJ"
      },
      "source": [
        "def A_fn(T=1):\n",
        "  return np.array([[1, 0],[T,1]])\n",
        "\n",
        "def B_fn(d, T=1):\n",
        "  return np.array([[-d[0][0]-d[1][0], -d[0][1]-d[1][1]],\n",
        "                   [-0.5*T*d[0][0]-0.5*T*d[1][0], -0.5*T*d[0][1]-0.5*T*d[1][1]]])\n",
        "\n",
        "def C_fn(q, T=1):\n",
        "  return np.transpose(np.array([[T*(q[0][0]+q[1][0]), T*(q[0][1]+q[1][1])]]))\n"
      ],
      "execution_count": null,
      "outputs": []
    },
    {
      "cell_type": "code",
      "metadata": {
        "id": "_8oG4PMUIgzo"
      },
      "source": [
        "def Q_n1(Q_n, q_n, d_n, S_n):\n",
        "  return Q_n + q_n - np.matmul(d_n, S_n)\n",
        "\n",
        "\n",
        "def W_n1(W_n,  Q_n, q_n, d_n, S_n, T=1):\n",
        "  return W_n + T*Q_n + 0.5*T*q_n - 0.5*T*np.matmul(d_n,S_n)\n",
        "\n",
        "def A_fn(T=1):\n",
        "  return np.array([[1, 0],[T,1]])\n",
        "\n",
        "def B_fn(d, T=1):\n",
        "  return np.array([[-d[0][0]-d[1][0], -d[0][1]-d[1][1]],\n",
        "                   [-0.5*T*d[0][0]-0.5*T*d[1][0], -0.5*T*d[0][1]-0.5*T*d[1][1]]])\n",
        "\n",
        "def C_fn(q, T=1):\n",
        "  return np.transpose(np.array([[T*(q[0][0]+q[1][0]), T*(q[0][1]+q[1][1])]]))\n",
        "\n",
        "def X_n(Q, W):\n",
        "  return np.transpose(np.array([[(Q[0][0] + Q[1][0] - Q[0][1] - Q[1][1]), \n",
        "                   (W[0][0] + W[1][0] - W[0][1] - W[1][1])]]))\n",
        "  \n",
        "def X_n1(X_n, S_n, A, B, C):\n",
        "  return np.matmul(A,X_n) + np.matmul(B,S_n) + C"
      ],
      "execution_count": null,
      "outputs": []
    },
    {
      "cell_type": "code",
      "metadata": {
        "id": "FqhgGUWEZzxk"
      },
      "source": [
        "def X_n(Q, W):\n",
        "  return np.transpose(np.array([[(Q[0][0] + Q[1][0] - Q[0][1] - Q[1][1]), \n",
        "                   (W[0][0] + W[1][0] - W[0][1] - W[1][1])]]))"
      ],
      "execution_count": null,
      "outputs": []
    },
    {
      "cell_type": "code",
      "metadata": {
        "id": "vJm3C1S2hWG-"
      },
      "source": [
        "'''\n",
        "X = 1*2\n",
        "A = 2*2\n",
        "S_n = [1,0]t || [0,1]t\n",
        "(12)(22) + (12)(22) + (12)\n",
        "'''\n",
        "# 21 = 22*21 + 22*21 + 21\n",
        "def X_n1(X_n, S_n, A, B, C):\n",
        "  return np.matmul(A,X_n) + np.matmul(B,S_n) + C"
      ],
      "execution_count": null,
      "outputs": []
    },
    {
      "cell_type": "markdown",
      "metadata": {
        "id": "taAzycZdKIxX"
      },
      "source": [
        "### Temp"
      ]
    },
    {
      "cell_type": "code",
      "metadata": {
        "id": "2DjCy375lmT8",
        "colab": {
          "base_uri": "https://localhost:8080/",
          "height": 53
        },
        "outputId": "66949dc8-4b98-421c-bf51-5a2b061192c3"
      },
      "source": [
        "'''\n",
        "X -> 2*1\n",
        "  [Q12-Q34]\n",
        "  [W12-W34]\n",
        "\n",
        "A -> 2*2\n",
        "  [1 0]\n",
        "  [T 1]\n",
        "\n",
        "B -> 2*2\n",
        "  [-d1-d2           -d3-d4]\n",
        "  [-0.5Td1-0.5Td2   -0.5Td3-0.5Td4]\n",
        "\n",
        "S -> 2*1\n",
        "  ew[1]     or  ns[0]\n",
        "    [0]     or    [1]\n",
        "C -> 2*1\n",
        "[Tq12 Tq34]\n",
        "'''"
      ],
      "execution_count": null,
      "outputs": [
        {
          "output_type": "execute_result",
          "data": {
            "application/vnd.google.colaboratory.intrinsic+json": {
              "type": "string"
            },
            "text/plain": [
              "'\\nX -> 2*1\\n  [Q12-Q34]\\n  [W12-W34]\\n\\nA -> 2*2\\n  [1 0]\\n  [T 1]\\n\\nB -> 2*2\\n  [-d1-d2           -d3-d4]\\n  [-0.5Td1-0.5Td2   -0.5Td3-0.5Td4]\\n\\nS -> 2*1\\n  ew[1]     or  ns[0]\\n    [0]     or    [1]\\nC -> 2*1\\n[Tq12 Tq34]\\n'"
            ]
          },
          "metadata": {
            "tags": []
          },
          "execution_count": 1
        }
      ]
    },
    {
      "cell_type": "code",
      "metadata": {
        "id": "7OTHgT6rSlC2"
      },
      "source": [
        "a = [[1,2],[3,4]]\n",
        "b = [[3,4],[5,6]]\n",
        "c = [[-1,-2],[-3,-4]]"
      ],
      "execution_count": null,
      "outputs": []
    },
    {
      "cell_type": "code",
      "metadata": {
        "colab": {
          "base_uri": "https://localhost:8080/"
        },
        "id": "Xcx7KzE0StGw",
        "outputId": "b2fd720d-9c90-4a00-afb1-d9a90818ea58"
      },
      "source": [
        "a+b"
      ],
      "execution_count": null,
      "outputs": [
        {
          "output_type": "execute_result",
          "data": {
            "text/plain": [
              "[[1, 2], [3, 4], [3, 4], [5, 6]]"
            ]
          },
          "metadata": {
            "tags": []
          },
          "execution_count": 3
        }
      ]
    },
    {
      "cell_type": "code",
      "metadata": {
        "id": "lWUx2x9nSto-"
      },
      "source": [
        ""
      ],
      "execution_count": null,
      "outputs": []
    },
    {
      "cell_type": "code",
      "metadata": {
        "id": "doW-epZlSw33"
      },
      "source": [
        "a = np.array(a)\n",
        "b = np.array(b)\n",
        "c = np.array(c)"
      ],
      "execution_count": null,
      "outputs": []
    },
    {
      "cell_type": "code",
      "metadata": {
        "colab": {
          "base_uri": "https://localhost:8080/"
        },
        "id": "dBp4qducS2bg",
        "outputId": "f5204e65-9dfa-4d77-fd66-f267c49180a7"
      },
      "source": [
        "a+b*c"
      ],
      "execution_count": null,
      "outputs": [
        {
          "output_type": "execute_result",
          "data": {
            "text/plain": [
              "array([[ -2,  -6],\n",
              "       [-12, -20]])"
            ]
          },
          "metadata": {
            "tags": []
          },
          "execution_count": 15
        }
      ]
    },
    {
      "cell_type": "code",
      "metadata": {
        "colab": {
          "base_uri": "https://localhost:8080/"
        },
        "id": "BrylxNRdS5bb",
        "outputId": "70cadb65-e9b0-4205-b2ed-fd1872082157"
      },
      "source": [
        "a*b"
      ],
      "execution_count": null,
      "outputs": [
        {
          "output_type": "execute_result",
          "data": {
            "text/plain": [
              "array([[ 3,  8],\n",
              "       [15, 24]])"
            ]
          },
          "metadata": {
            "tags": []
          },
          "execution_count": 11
        }
      ]
    },
    {
      "cell_type": "code",
      "metadata": {
        "id": "Gl8gxBfKS8WE",
        "colab": {
          "base_uri": "https://localhost:8080/"
        },
        "outputId": "1f77c46b-5271-419e-a8c2-d387456bee6b"
      },
      "source": [
        "! python3 -m pip install freegames"
      ],
      "execution_count": null,
      "outputs": [
        {
          "output_type": "stream",
          "text": [
            "Collecting freegames\n",
            "\u001b[?25l  Downloading https://files.pythonhosted.org/packages/0e/30/77e6f7ff22033bf341afcd73469ea96e7a1b2cda21a4b2105c12eeb9faa9/freegames-2.3.2-py2.py3-none-any.whl (108kB)\n",
            "\r\u001b[K     |███                             | 10kB 13.1MB/s eta 0:00:01\r\u001b[K     |██████                          | 20kB 18.7MB/s eta 0:00:01\r\u001b[K     |█████████                       | 30kB 18.8MB/s eta 0:00:01\r\u001b[K     |████████████                    | 40kB 15.9MB/s eta 0:00:01\r\u001b[K     |███████████████▏                | 51kB 7.3MB/s eta 0:00:01\r\u001b[K     |██████████████████▏             | 61kB 8.3MB/s eta 0:00:01\r\u001b[K     |█████████████████████▏          | 71kB 8.0MB/s eta 0:00:01\r\u001b[K     |████████████████████████▏       | 81kB 8.7MB/s eta 0:00:01\r\u001b[K     |███████████████████████████▏    | 92kB 9.4MB/s eta 0:00:01\r\u001b[K     |██████████████████████████████▎ | 102kB 7.2MB/s eta 0:00:01\r\u001b[K     |████████████████████████████████| 112kB 7.2MB/s \n",
            "\u001b[?25hInstalling collected packages: freegames\n",
            "Successfully installed freegames-2.3.2\n"
          ],
          "name": "stdout"
        }
      ]
    },
    {
      "cell_type": "code",
      "metadata": {
        "id": "mHHEvmViydFG"
      },
      "source": [
        ""
      ],
      "execution_count": null,
      "outputs": []
    },
    {
      "cell_type": "code",
      "metadata": {
        "id": "YrUTeaaoz9XN"
      },
      "source": [
        ""
      ],
      "execution_count": null,
      "outputs": []
    }
  ]
}